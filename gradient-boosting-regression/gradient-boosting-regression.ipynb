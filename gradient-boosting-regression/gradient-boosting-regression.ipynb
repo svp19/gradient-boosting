{
 "cells": [
  {
   "cell_type": "code",
   "execution_count": 49,
   "metadata": {},
   "outputs": [],
   "source": [
    "import numpy as np\n",
    "import pandas as pd\n",
    "import matplotlib.pyplot as plt\n",
    "import math\n",
    "from sklearn.linear_model import LinearRegression\n",
    "from sklearn.svm import SVR\n",
    "from sklearn.tree import DecisionTreeRegressor\n",
    "from mlxtend.evaluate import bias_variance_decomp\n"
   ]
  },
  {
   "cell_type": "code",
   "execution_count": 2,
   "metadata": {},
   "outputs": [],
   "source": [
    "class DecisionTree():\n",
    "    def __init__(self, x, y, idxs = None, min_leaf=2):\n",
    "        if idxs is None: idxs=np.arange(len(y))\n",
    "        self.x,self.y,self.idxs,self.min_leaf = x,y,idxs,min_leaf\n",
    "        self.n,self.c = len(idxs), x.shape[1]\n",
    "        self.val = np.mean(y[idxs])\n",
    "        self.score = float('inf')\n",
    "        self.find_varsplit()\n",
    "        \n",
    "    def find_varsplit(self):\n",
    "        for i in range(self.c): self.find_better_split(i)\n",
    "        if self.score == float('inf'): return\n",
    "        x = self.split_col\n",
    "        lhs = np.nonzero(x<=self.split)[0]\n",
    "        rhs = np.nonzero(x>self.split)[0]\n",
    "        self.lhs = DecisionTree(self.x, self.y, self.idxs[lhs])\n",
    "        self.rhs = DecisionTree(self.x, self.y, self.idxs[rhs])\n",
    "\n",
    "    def find_better_split(self, var_idx):\n",
    "        x,y = self.x.values[self.idxs,var_idx], self.y[self.idxs]\n",
    "        sort_idx = np.argsort(x)\n",
    "        sort_y,sort_x = y[sort_idx], x[sort_idx]\n",
    "        rhs_cnt,rhs_sum,rhs_sum2 = self.n, sort_y.sum(), (sort_y**2).sum()\n",
    "        lhs_cnt,lhs_sum,lhs_sum2 = 0,0.,0.\n",
    "\n",
    "        for i in range(0,self.n-self.min_leaf-1):\n",
    "            xi,yi = sort_x[i],sort_y[i]\n",
    "            lhs_cnt += 1; rhs_cnt -= 1\n",
    "            lhs_sum += yi; rhs_sum -= yi\n",
    "            lhs_sum2 += yi**2; rhs_sum2 -= yi**2\n",
    "            if i<self.min_leaf or xi==sort_x[i+1]:\n",
    "                continue\n",
    "\n",
    "            lhs_std = std_agg(lhs_cnt, lhs_sum, lhs_sum2)\n",
    "            rhs_std = std_agg(rhs_cnt, rhs_sum, rhs_sum2)\n",
    "            curr_score = lhs_std*lhs_cnt + rhs_std*rhs_cnt\n",
    "            if curr_score<self.score: \n",
    "                self.var_idx,self.score,self.split = var_idx,curr_score,xi\n",
    "\n",
    "    @property\n",
    "    def split_name(self): return self.x.columns[self.var_idx]\n",
    "    \n",
    "    @property\n",
    "    def split_col(self): return self.x.values[self.idxs,self.var_idx]\n",
    "\n",
    "    @property\n",
    "    def is_leaf(self): return self.score == float('inf')\n",
    "    \n",
    "    def __repr__(self):\n",
    "        s = f'n: {self.n}; val:{self.val}'\n",
    "        if not self.is_leaf:\n",
    "            s += f'; score:{self.score}; split:{self.split}; var:{self.split_name}'\n",
    "        return s\n",
    "\n",
    "    def predict(self, x):\n",
    "        return np.array([self.predict_row(xi) for xi in x])\n",
    "\n",
    "    def predict_row(self, xi):\n",
    "        if self.is_leaf: return self.val\n",
    "        t = self.lhs if xi[self.var_idx]<=self.split else self.rhs\n",
    "        return t.predict_row(xi)"
   ]
  },
  {
   "cell_type": "code",
   "execution_count": 3,
   "metadata": {},
   "outputs": [],
   "source": [
    "def std_agg(cnt, s1, s2): return math.sqrt((s2/cnt) - (s1/cnt)**2)"
   ]
  },
  {
   "cell_type": "code",
   "execution_count": 57,
   "metadata": {},
   "outputs": [],
   "source": [
    "x = np.arange(0,50)\n",
    "x = pd.DataFrame({'x':x})\n",
    "\n",
    "# just random uniform distributions in differnt range\n",
    "\n",
    "y1 = np.random.uniform(10,15,10)\n",
    "y2 = np.random.uniform(20,25,10)\n",
    "y3 = np.random.uniform(0,5,10)\n",
    "y4 = np.random.uniform(30,32,10)\n",
    "y5 = np.random.uniform(13,17,10)\n",
    "\n",
    "y = np.concatenate((y1,y2,y3,y4,y5))\n",
    "y = y[:,None]\n",
    "\n"
   ]
  },
  {
   "cell_type": "code",
   "execution_count": 58,
   "metadata": {},
   "outputs": [
    {
     "data": {
      "text/plain": [
       "<matplotlib.collections.PathCollection at 0x10b8ee160>"
      ]
     },
     "execution_count": 58,
     "metadata": {},
     "output_type": "execute_result"
    },
    {
     "data": {
      "image/png": "[encoded data removed]",
      "text/plain": [
       "<Figure size 432x288 with 1 Axes>"
      ]
     },
     "metadata": {
      "needs_background": "light"
     },
     "output_type": "display_data"
    }
   ],
   "source": [
    "plt.scatter(x,y)"
   ]
  },
  {
   "cell_type": "code",
   "execution_count": 59,
   "metadata": {},
   "outputs": [],
   "source": [
    "# mse loss function\n",
    "def compute_loss(y, y_hat):\n",
    "    return sum((y - y_hat) ** 2 / (2 * y.shape[0]))"
   ]
  },
  {
   "cell_type": "code",
   "execution_count": 81,
   "metadata": {},
   "outputs": [],
   "source": [
    "\n"
   ]
  },
  {
   "cell_type": "code",
   "execution_count": null,
   "metadata": {},
   "outputs": [],
   "source": [
    "pred_error_lin = []"
   ]
  },
  {
   "cell_type": "code",
   "execution_count": 78,
   "metadata": {},
   "outputs": [],
   "source": [
    "pred_error_svm = []"
   ]
  },
  {
   "cell_type": "code",
   "execution_count": 99,
   "metadata": {},
   "outputs": [
    {
     "data": {
      "text/plain": [
       "Text(0, 0.5, 'Residuals')"
      ]
     },
     "execution_count": 99,
     "metadata": {},
     "output_type": "execute_result"
    },
    {
     "data": {
      "image/png": "[encoded data removed]",
      "text/plain": [
       "<Figure size 936x180 with 2 Axes>"
      ]
     },
     "metadata": {
      "needs_background": "light"
     },
     "output_type": "display_data"
    }
   ],
   "source": [
    "xi = x # initialization of input\n",
    "yi = y # initialization of target\n",
    "ei = 0 # initialization of error\n",
    "\n",
    "n_trees = 500\n",
    "depth = 1\n",
    "\n",
    "n = len(yi)  # number of train examples\n",
    "\n",
    "# initialize the prediction with the average of all train labels for the regressor\n",
    "predf = np.mean(y, axis = 0) \n",
    "\n",
    "x_train = np.array(xi['x'].to_list()).reshape(-1,1)\n",
    "\n",
    "xa = np.array(x.x)\n",
    "order = np.argsort(xa)\n",
    "xs = np.array(xa)[order]\n",
    "\n",
    "\n",
    "\n",
    "models_all = []\n",
    "\n",
    "for i in range(n_trees): \n",
    "\n",
    "    model_rf = DecisionTreeRegressor(max_depth = depth,random_state=0)\n",
    "    # model_rf = LinearRegression()\n",
    "    # model_rf = SVR(kernel='rbf', C=100, gamma=0.1, epsilon=.1)\n",
    "    \n",
    "    # fit the weak learners in every iteration\n",
    "    model_rf.fit(x_train,yi) \n",
    "    \n",
    "    # prediction\n",
    "    predi = model_rf.predict(x_train)\n",
    "    \n",
    "    models_all.append(model_rf)\n",
    "    \n",
    "    predi = predi.reshape(-1, 1)\n",
    "    \n",
    "    # add previous prediction to current prediction\n",
    "    predf = predf + predi    \n",
    "    \n",
    "    # estimate residuals by taking different between prediction and true labels\n",
    "    ei = y - predf  \n",
    "    \n",
    "    pred_error_des.append(compute_loss(y, predf))\n",
    "    \n",
    "    # the labels for the next iteration are the residuals itself\n",
    "    yi = ei \n",
    "    \n",
    "    # plotting after prediction\n",
    "    \n",
    "    ys = np.array(predf)[order]\n",
    "    \n",
    "\n",
    "    # f, (ax1, ax2) = plt.subplots(1, 2, sharey=True, figsize = (13,2.5))\n",
    "#     plt.plot(x, y, 'o')\n",
    "#     plt.plot(xs, ys, 'r')\n",
    "#     plt.xlabel('x')\n",
    "#     plt.ylabel('y / y_pred')\n",
    "#     plt.title('Prediction Iteration: {}'.format(i+1))\n",
    "#     plt.savefig('boosting_output/boost_reg_data_{}'.format(i))\n",
    "#     plt.clf()\n",
    "    \n",
    "#     plt.plot(x, ei, 'go')\n",
    "    \n",
    "#     plt.xlabel('x')\n",
    "#     plt.ylabel('residuals')\n",
    "#     plt.title('Residuals Iteration: {}'.format(i+1))\n",
    "#     plt.savefig('boosting_residuals/boost_reg_data_{}'.format(i))\n",
    "#     plt.clf()\n",
    "f, (ax1, ax2) = plt.subplots(1, 2, sharey=True, figsize = (13,2.5))\n",
    "ax1.plot(x,y, 'o')\n",
    "ax1.plot(xs, ys, 'r')\n",
    "ax1.set_title(f'Prediction (Iteration {i+1})')\n",
    "ax1.set_xlabel('x')\n",
    "ax1.set_ylabel('y / y_pred')\n",
    "\n",
    "\n",
    "ax2.plot(x, ei, 'go')\n",
    "ax2.set_title(f'Residuals vs. x (Iteration {i+1})')\n",
    "ax2.set_xlabel('x')\n",
    "ax2.set_ylabel('Residuals')"
   ]
  },
  {
   "cell_type": "code",
   "execution_count": 87,
   "metadata": {},
   "outputs": [
    {
     "data": {
      "text/plain": [
       "Text(0, 0.5, 'Loss')"
      ]
     },
     "execution_count": 87,
     "metadata": {},
     "output_type": "execute_result"
    },
    {
     "data": {
      "image/png": "[encoded data removed]",
      "text/plain": [
       "<Figure size 432x288 with 1 Axes>"
      ]
     },
     "metadata": {
      "needs_background": "light"
     },
     "output_type": "display_data"
    }
   ],
   "source": [
    "# plot the error over all iterations\n",
    "plt.plot(pred_error_des)\n",
    "plt.plot(pred_error_lin)\n",
    "plt.plot(pred_error_svm)\n",
    "plt.title('MSE loss')\n",
    "plt.legend(['Decision tree', 'Linear Regression', 'SVM'])\n",
    "plt.xlabel('Number of estimators')\n",
    "plt.ylabel('Loss')"
   ]
  },
  {
   "cell_type": "code",
   "execution_count": 100,
   "metadata": {},
   "outputs": [
    {
     "data": {
      "text/plain": [
       "[Text(167.4, 163.07999999999998, 'X[0] <= 21.5\\nmse = 0.048\\nsamples = 50\\nvalue = -0.0'),\n",
       " Text(83.7, 54.360000000000014, 'mse = 0.052\\nsamples = 22\\nvalue = 0.015'),\n",
       " Text(251.10000000000002, 54.360000000000014, 'mse = 0.044\\nsamples = 28\\nvalue = -0.012')]"
      ]
     },
     "execution_count": 100,
     "metadata": {},
     "output_type": "execute_result"
    },
    {
     "data": {
      "image/png": "[encoded data removed]",
      "text/plain": [
       "<Figure size 432x288 with 1 Axes>"
      ]
     },
     "metadata": {
      "needs_background": "light"
     },
     "output_type": "display_data"
    }
   ],
   "source": [
    "from sklearn import tree\n",
    "\n",
    "tree.plot_tree(models_all[499])"
   ]
  },
  {
   "cell_type": "code",
   "execution_count": null,
   "metadata": {},
   "outputs": [],
   "source": []
  },
  {
   "cell_type": "code",
   "execution_count": null,
   "metadata": {},
   "outputs": [],
   "source": []
  },
  {
   "cell_type": "code",
   "execution_count": null,
   "metadata": {},
   "outputs": [],
   "source": []
  },
  {
   "cell_type": "code",
   "execution_count": null,
   "metadata": {},
   "outputs": [],
   "source": []
  }
 ],
 "metadata": {
  "kernelspec": {
   "display_name": "Python 3",
   "language": "python",
   "name": "python3"
  },
  "language_info": {
   "codemirror_mode": {
    "name": "ipython",
    "version": 3
   },
   "file_extension": ".py",
   "mimetype": "text/x-python",
   "name": "python",
   "nbconvert_exporter": "python",
   "pygments_lexer": "ipython3",
   "version": "3.7.3"
  }
 },
 "nbformat": 4,
 "nbformat_minor": 4
}
