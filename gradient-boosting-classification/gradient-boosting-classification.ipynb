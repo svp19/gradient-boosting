{
  "nbformat": 4,
  "nbformat_minor": 0,
  "metadata": {
    "colab": {
      "name": "Gradient_Boosting_Classifier.ipynb",
      "provenance": [],
      "collapsed_sections": [],
      "toc_visible": true
    },
    "kernelspec": {
      "display_name": "Python 3",
      "name": "python3"
    },
    "language_info": {
      "name": "python"
    }
  },
  "cells": [
    {
      "cell_type": "code",
      "metadata": {
        "id": "Kxhi7-0zHxkp"
      },
      "source": [
        "import numpy as np\n",
        "import pandas as pd\n",
        "from sklearn.tree import DecisionTreeRegressor\n",
        "from sklearn.datasets import load_breast_cancer\n",
        "from sklearn.model_selection import train_test_split\n",
        "import matplotlib.pyplot as plt"
      ],
      "execution_count": null,
      "outputs": []
    },
    {
      "cell_type": "markdown",
      "metadata": {
        "id": "qtplAtVcMHK_"
      },
      "source": [
        "## Breast Cancer Dataset"
      ]
    },
    {
      "cell_type": "code",
      "metadata": {
        "colab": {
          "base_uri": "https://localhost:8080/"
        },
        "id": "vG26GPHdLeAz",
        "outputId": "425764b0-b219-425e-c293-888bf6378a48"
      },
      "source": [
        "dataset = load_breast_cancer()\n",
        "X = dataset.data\n",
        "y = dataset.target\n",
        "train_X, test_X, train_y, test_y = train_test_split(X,y,test_size=0.2)\n",
        "dataset_size = len(train_X)\n",
        "train_X.shape, test_X.shape"
      ],
      "execution_count": null,
      "outputs": [
        {
          "output_type": "execute_result",
          "data": {
            "text/plain": [
              "((455, 30), (114, 30))"
            ]
          },
          "metadata": {
            "tags": []
          },
          "execution_count": 2
        }
      ]
    },
    {
      "cell_type": "markdown",
      "metadata": {
        "id": "6udnqU1fNjvt"
      },
      "source": [
        "## Parameter Initialization"
      ]
    },
    {
      "cell_type": "code",
      "metadata": {
        "id": "5xeqOihdMlYN"
      },
      "source": [
        "itr = 20\n",
        "learning_rate = 0.01\n",
        "\n",
        "log_odds = np.zeros([itr+1, dataset_size])\n",
        "prob = np.zeros([itr+1, dataset_size])\n",
        "residuals = np.zeros([itr+1, dataset_size])\n",
        "loss = [0]* (itr+1)\n",
        "score = np.zeros([itr+1])\n",
        "trees = []\n",
        "gamma_value = np.zeros([itr+1, 100]) # set to max number of leaves\n",
        "gamma = np.zeros([itr+1, dataset_size])"
      ],
      "execution_count": null,
      "outputs": []
    },
    {
      "cell_type": "markdown",
      "metadata": {
        "id": "5jLa3CTpMLu5"
      },
      "source": [
        "## Prediction at itr 0\n",
        "\n"
      ]
    },
    {
      "cell_type": "code",
      "metadata": {
        "colab": {
          "base_uri": "https://localhost:8080/"
        },
        "id": "N30R2bwqL73O",
        "outputId": "1ed3848d-af3d-4710-b36a-95210508b728"
      },
      "source": [
        "yes = np.sum(train_y)\n",
        "no = len(train_y)-yes\n",
        "\n",
        "log_odd_0 = np.log(yes/no)\n",
        "prob_0 = np.exp(log_odd_0)/(1+np.exp(log_odd_0))\n",
        "loss_0 = -(train_y*np.log(prob_0) + (1-train_y)*np.log(1-prob_0))\n",
        "print(\"Log of odds at itr 0 \", log_odd_0)\n",
        "print(\"Predicted probability at itr 0\", prob_0)\n",
        "print(\"Loss at itr 0\", loss_0.sum())\n",
        "\n",
        "# Set value\n",
        "log_odds[0] = [log_odd_0] * dataset_size\n",
        "prob[0] = [prob_0] * dataset_size\n",
        "residuals[0] = train_y - prob[0]\n",
        "loss[0] = loss_0.sum()\n",
        "score[0] = np.sum((prob[0] >= 0.5)*1.0 == train_y)/dataset_size"
      ],
      "execution_count": null,
      "outputs": [
        {
          "output_type": "stream",
          "text": [
            "Log of odds at itr 0  0.554438899755889\n",
            "Predicted probability at itr 0 0.6351648351648351\n",
            "Loss at itr 0 298.5480398910033\n"
          ],
          "name": "stdout"
        }
      ]
    },
    {
      "cell_type": "code",
      "metadata": {
        "id": "bLfiIvt4Rxie"
      },
      "source": [
        "for i in range(itr):\n",
        "  dt = DecisionTreeRegressor(max_depth=2)\n",
        "  dt = dt.fit(train_X, residuals[i])\n",
        "  tree = dt.tree_\n",
        "  trees.append(tree)\n",
        "  leaf_indeces = dt.apply(train_X)\n",
        "  unique_leaves=np.unique(leaf_indeces)\n",
        "  n_leaf=len(unique_leaves)\n",
        "  \n",
        "  for ileaf in range(n_leaf):\n",
        "    leaf_index = unique_leaves[ileaf]\n",
        "    n_leaf = len(leaf_indeces[leaf_indeces==leaf_index])\n",
        "    previous_probability = prob[i][leaf_indeces==leaf_index]\n",
        "    denominator = np.sum(previous_probability * (1-previous_probability))\n",
        "    igamma = (tree.value[ileaf+1][0][0] * n_leaf) / denominator\n",
        "    gamma_value[i][ileaf] = igamma\n",
        "\n",
        "  gamma[i] = [gamma_value[i][np.where(unique_leaves==index)] for index in leaf_indeces]\n",
        "\n",
        "  log_odds[i+1] = log_odds[i] + learning_rate * gamma[i]\n",
        "  prob[i+1] = np.array([np.exp(odds)/(np.exp(odds)+1) for odds in log_odds[i+1]])\n",
        "  score[i+1]=np.sum((prob[i+1]>0.5)*1.0==train_y) / dataset_size\n",
        "  residuals[i+1] = train_y - prob[i+1]\n",
        "  loss[i+1]=np.sum(-train_y * log_odds[i+1] + np.log(1+np.exp(log_odds[i+1])))"
      ],
      "execution_count": null,
      "outputs": []
    },
    {
      "cell_type": "code",
      "metadata": {
        "colab": {
          "base_uri": "https://localhost:8080/",
          "height": 295
        },
        "id": "w70Gj9mmTBwp",
        "outputId": "256ac3e9-ec08-4d91-bd7c-1e8cc821ded3"
      },
      "source": [
        "plt.plot(loss)\n",
        "plt.xlabel(\"Iterations\")\n",
        "plt.ylabel(\"Logarithmic Loss\")\n",
        "plt.title(\"Loss vs Iterations\")\n",
        "plt.show()"
      ],
      "execution_count": null,
      "outputs": [
        {
          "output_type": "display_data",
          "data": {
            "image/png": "[encoded data removed]",
            "text/plain": [
              "<Figure size 432x288 with 1 Axes>"
            ]
          },
          "metadata": {
            "tags": [],
            "needs_background": "light"
          }
        }
      ]
    },
    {
      "cell_type": "code",
      "metadata": {
        "colab": {
          "base_uri": "https://localhost:8080/",
          "height": 295
        },
        "id": "9-yfya5ATN4r",
        "outputId": "8f5ebae9-80bb-4b1c-c98d-139128cf71e6"
      },
      "source": [
        "plt.plot(score)\n",
        "plt.xlabel(\"Iterations\")\n",
        "plt.ylabel(\"Accuracy\")\n",
        "plt.title(\"Accuracy vs Iterations\")\n",
        "plt.show()"
      ],
      "execution_count": null,
      "outputs": [
        {
          "output_type": "display_data",
          "data": {
            "image/png": "[encoded data removed]",
            "text/plain": [
              "<Figure size 432x288 with 1 Axes>"
            ]
          },
          "metadata": {
            "tags": [],
            "needs_background": "light"
          }
        }
      ]
    },
    {
      "cell_type": "code",
      "metadata": {
        "id": "N7YR4ljPTdHC"
      },
      "source": [
        "def prediction(trees, gamma_value, test_X, learning_rate, test_gamma):\n",
        "  for i in range(len(trees)):\n",
        "    dt = trees[i]\n",
        "    leaf_indeces = dt.apply(test_X)\n",
        "    unique_leaves=np.unique(leaf_indeces)\n",
        "    n_leaf=len(unique_leaves)\n",
        "    test_gamma[i] = [gamma_value[i][np.where(unique_leaves==index)] for index in leaf_indeces]\n",
        "  y_gamma = np.zeros((len(test_X)))\n",
        "  for i in range(len(test_gamma)):\n",
        "    y_gamma = y_gamma + (0.1)*test_gamma[i]\n",
        "  return (y_gamma >= 0.5)*1.0"
      ],
      "execution_count": null,
      "outputs": []
    },
    {
      "cell_type": "code",
      "metadata": {
        "id": "mOxCzoyabheB"
      },
      "source": [
        "test_gamma = np.zeros([itr+1, len(test_X)])\n",
        "test_predictions = prediction(trees, gamma_value, test_X.astype(np.float32), learning_rate, test_gamma) "
      ],
      "execution_count": null,
      "outputs": []
    },
    {
      "cell_type": "code",
      "metadata": {
        "colab": {
          "base_uri": "https://localhost:8080/"
        },
        "id": "hl22hozAeSE3",
        "outputId": "3ad521a0-c528-44d3-c7ed-521ba6965758"
      },
      "source": [
        "print(\"test score\", np.sum((test_predictions == test_y)/len(test_y)))"
      ],
      "execution_count": null,
      "outputs": [
        {
          "output_type": "stream",
          "text": [
            "test score 0.9298245614035088\n"
          ],
          "name": "stdout"
        }
      ]
    },
    {
      "cell_type": "code",
      "metadata": {
        "colab": {
          "base_uri": "https://localhost:8080/"
        },
        "id": "z6qIISG9ekS8",
        "outputId": "c785216a-a481-4c47-a7cd-4dc5d91405d9"
      },
      "source": [
        "score[-1]"
      ],
      "execution_count": null,
      "outputs": [
        {
          "output_type": "execute_result",
          "data": {
            "text/plain": [
              "0.6351648351648351"
            ]
          },
          "metadata": {
            "tags": []
          },
          "execution_count": 11
        }
      ]
    },
    {
      "cell_type": "code",
      "metadata": {
        "colab": {
          "base_uri": "https://localhost:8080/"
        },
        "id": "IhHdVBKEfEfF",
        "outputId": "955bd89e-4087-4260-bc52-9bd4a95a1c47"
      },
      "source": [
        "depth = [1,2,3,4,5]\n",
        "train_accuracy = []\n",
        "test_accuracy = []\n",
        "dataset_size = len(train_X)\n",
        "for j in range(len(depth)):\n",
        "  curr_depth = depth[j]\n",
        "  itr = 40\n",
        "  learning_rate = 0.001\n",
        "\n",
        "  log_odds = np.zeros([itr+1, dataset_size])\n",
        "  prob = np.zeros([itr+1, dataset_size])\n",
        "  residuals = np.zeros([itr+1, dataset_size])\n",
        "  loss = [0]* (itr+1)\n",
        "  score = np.zeros([itr+1])\n",
        "  trees = []\n",
        "  gamma_value = np.zeros([itr+1, 100]) # set to max number of leaves\n",
        "  gamma = np.zeros([itr+1, dataset_size])\n",
        "\n",
        "  yes = np.sum(train_y)\n",
        "  no = len(train_y)-yes\n",
        "\n",
        "  log_odd_0 = np.log(yes/no)\n",
        "  prob_0 = np.exp(log_odd_0)/(1+np.exp(log_odd_0))\n",
        "  loss_0 = -(train_y*np.log(prob_0) + (1-train_y)*np.log(1-prob_0))\n",
        "  print(\"Log of odds at itr 0 \", log_odd_0)\n",
        "  print(\"Predicted probability at itr 0\", prob_0)\n",
        "  print(\"Loss at itr 0\", loss_0.sum())\n",
        "\n",
        "  # Set value\n",
        "  log_odds[0] = [log_odd_0] * dataset_size\n",
        "  prob[0] = [prob_0] * dataset_size\n",
        "  residuals[0] = train_y - prob[0]\n",
        "  loss[0] = loss_0.sum()\n",
        "  score[0] = np.sum((prob[0] >= 0.5)*1.0 == train_y)/dataset_size\n",
        "\n",
        "  for i in range(itr):\n",
        "    dt = DecisionTreeRegressor(max_depth=curr_depth)\n",
        "    dt = dt.fit(train_X, residuals[i])\n",
        "    tree = dt.tree_\n",
        "    trees.append(tree)\n",
        "    leaf_indeces = dt.apply(train_X)\n",
        "    unique_leaves=np.unique(leaf_indeces)\n",
        "    n_leaf=len(unique_leaves)\n",
        "    \n",
        "    for ileaf in range(n_leaf):\n",
        "      leaf_index = unique_leaves[ileaf]\n",
        "      n_leaf = len(leaf_indeces[leaf_indeces==leaf_index])\n",
        "      previous_probability = prob[i][leaf_indeces==leaf_index]\n",
        "      denominator = np.sum(previous_probability * (1-previous_probability))\n",
        "      igamma = (tree.value[ileaf+1][0][0] * n_leaf) / denominator\n",
        "      gamma_value[i][ileaf] = igamma\n",
        "\n",
        "    gamma[i] = [gamma_value[i][np.where(unique_leaves==index)] for index in leaf_indeces]\n",
        "\n",
        "    log_odds[i+1] = log_odds[i] + learning_rate * gamma[i]\n",
        "    prob[i+1] = np.array([np.exp(odds)/(np.exp(odds)+1) for odds in log_odds[i+1]])\n",
        "    score[i+1]=np.sum((prob[i+1]>=0.5)*1.0==train_y) / dataset_size\n",
        "    residuals[i+1] = train_y - prob[i+1]\n",
        "    loss[i+1]=np.sum(-train_y * log_odds[i+1] + np.log(1+np.exp(log_odds[i+1])))\n",
        "  \n",
        "  def prediction(trees, gamma_value, test_X, learning_rate, test_gamma):\n",
        "    for i in range(len(trees)):\n",
        "      dt = trees[i]\n",
        "      leaf_indeces = dt.apply(test_X)\n",
        "      unique_leaves=np.unique(leaf_indeces)\n",
        "      n_leaf=len(unique_leaves)\n",
        "      test_gamma[i] = [gamma_value[i][np.where(unique_leaves==index)] for index in leaf_indeces]\n",
        "    y_gamma = np.zeros((len(test_X)))\n",
        "    for i in range(len(test_gamma)):\n",
        "      y_gamma = y_gamma + (0.1)*test_gamma[i]\n",
        "    return (y_gamma >= 0.5)*1.0\n",
        "  \n",
        "  test_gamma = np.zeros([itr+1, len(test_X)])\n",
        "  test_predictions = prediction(trees, gamma_value, test_X.astype(np.float32), learning_rate, test_gamma) \n",
        "\n",
        "  test_accuracy.append(np.sum((test_predictions == test_y)/len(test_y)))\n",
        "  train_accuracy.append(score[-1])\n"
      ],
      "execution_count": null,
      "outputs": [
        {
          "output_type": "stream",
          "text": [
            "Log of odds at itr 0  0.554438899755889\n",
            "Predicted probability at itr 0 0.6351648351648351\n",
            "Loss at itr 0 298.5480398910033\n",
            "Log of odds at itr 0  0.554438899755889\n",
            "Predicted probability at itr 0 0.6351648351648351\n",
            "Loss at itr 0 298.5480398910033\n",
            "Log of odds at itr 0  0.554438899755889\n",
            "Predicted probability at itr 0 0.6351648351648351\n",
            "Loss at itr 0 298.5480398910033\n",
            "Log of odds at itr 0  0.554438899755889\n",
            "Predicted probability at itr 0 0.6351648351648351\n",
            "Loss at itr 0 298.5480398910033\n",
            "Log of odds at itr 0  0.554438899755889\n",
            "Predicted probability at itr 0 0.6351648351648351\n",
            "Loss at itr 0 298.5480398910033\n"
          ],
          "name": "stdout"
        }
      ]
    },
    {
      "cell_type": "code",
      "metadata": {
        "colab": {
          "base_uri": "https://localhost:8080/",
          "height": 295
        },
        "id": "J1jfNiDrjKy4",
        "outputId": "3f85b7c0-eb62-4b44-c3a7-f5e7ec5f40c7"
      },
      "source": [
        "plt.plot(depth, train_accuracy)\n",
        "plt.xlabel(\"Depth of Weak Learner Trees\")\n",
        "plt.ylabel(\"Accuracy\")\n",
        "plt.title(\"Accuracy vs Depth (Train)\")\n",
        "plt.show()"
      ],
      "execution_count": null,
      "outputs": [
        {
          "output_type": "display_data",
          "data": {
            "image/png": "[encoded data removed]",
            "text/plain": [
              "<Figure size 432x288 with 1 Axes>"
            ]
          },
          "metadata": {
            "tags": [],
            "needs_background": "light"
          }
        }
      ]
    },
    {
      "cell_type": "code",
      "metadata": {
        "colab": {
          "base_uri": "https://localhost:8080/",
          "height": 295
        },
        "id": "8f185VGjjYKt",
        "outputId": "c3a46def-9d42-4ebe-f8d3-18b01c202ab0"
      },
      "source": [
        "plt.plot(depth, test_accuracy)\n",
        "plt.xlabel(\"Depth of Weak Learner Trees\")\n",
        "plt.ylabel(\"Accuracy\")\n",
        "plt.title(\"Accuracy vs Depth (Test)\")\n",
        "plt.show()"
      ],
      "execution_count": null,
      "outputs": [
        {
          "output_type": "display_data",
          "data": {
            "image/png": "[encoded data removed]",
            "text/plain": [
              "<Figure size 432x288 with 1 Axes>"
            ]
          },
          "metadata": {
            "tags": [],
            "needs_background": "light"
          }
        }
      ]
    },
    {
      "cell_type": "code",
      "metadata": {
        "id": "Iph6Tyq8jjo8"
      },
      "source": [
        ""
      ],
      "execution_count": null,
      "outputs": []
    }
  ]
}